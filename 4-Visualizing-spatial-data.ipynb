{
 "cells": [
  {
   "cell_type": "markdown",
   "metadata": {},
   "source": [
    "# Visualizing spatial data in Python\n",
    "We have a number of options for displaying spatial data using Python. Previously, we've explored how the ArcGIS API for Python can make some quick and nice looking maps. However, these maps are quite difficult to modify in terms of customizing how points and polygons are rendered. (I'm hopeful ESRI will make this easier, but right now the technology still seems a bit young...)\n",
    "\n",
    "Here we explore a few alternatives Python packages that allow us to create static and interactive maps. These include:\n",
    "* [`contextily`](https://contextily.readthedocs.io/en/latest/intro_guide.html) allows us to plop a nice basemap behind our geographic plots\n",
    "* `mplleaflet` allows us to add *interactive* basemaps to our plots\n",
    "* `folium` another means for allowing for interactive maps\n",
    "\n",
    "A bit later on, we'll examine how these actually work - a nice transition to a discussion on web services. For now, however, a good start is to get a feel for how maps are included in the plots we create."
   ]
  },
  {
   "cell_type": "markdown",
   "metadata": {},
   "source": [
    "### Import the packages we'll be using. "
   ]
  },
  {
   "cell_type": "code",
   "execution_count": null,
   "metadata": {},
   "outputs": [],
   "source": [
    "#Import packages\n",
    "import pandas as pd\n",
    "import geopandas as gpd\n",
    "from shapely.geometry import Point\n",
    "\n",
    "import matplotlib.pyplot as plt\n",
    "import contextily as cx\n",
    "import mplleaflet\n",
    "import folium"
   ]
  },
  {
   "cell_type": "markdown",
   "metadata": {},
   "source": [
    "## Getting data\n",
    "First we'll fetch some NWIS gage location data to plot. Below is a call to the National Water Inventory System (NWIS) web server to fetch a list of water gage locations for North Carolina."
   ]
  },
  {
   "cell_type": "code",
   "execution_count": null,
   "metadata": {},
   "outputs": [],
   "source": [
    "#Get the list of site names for NC using the NWIS API\n",
    "theURL = ('https://waterdata.usgs.gov/nwis/inventory?' + \\\n",
    "          'state_cd=nc&' + \\\n",
    "          'group_key=NONE&' + \\\n",
    "          'format=sitefile_output&' + \\\n",
    "          'sitefile_output_format=rdb&' + \\\n",
    "          'column_name=site_no&' + \\\n",
    "          'column_name=huc_cd&' + \\\n",
    "          'column_name=station_nm&' + \\\n",
    "          'column_name=site_tp_cd&' + \\\n",
    "          'column_name=dec_lat_va&' + \\\n",
    "          'column_name=dec_long_va&' + \\\n",
    "          'column_name=drain_area_va&' + \\\n",
    "          'column_name=rt_bol&' + \\\n",
    "          'column_name=alt_va&' + \\\n",
    "          'list_of_search_criteria=state_cd')\n",
    "colnames=['site_no','huc_code','station_nm','site_tp_cd','lat','lng','agent','datum',\n",
    "          'd_area','real_time','alt','alt_a','alt_datum']\n",
    "\n",
    "#Pull the data from the URL\n",
    "dfNWIS = pd.read_csv(theURL,\n",
    "                     skiprows=34,\n",
    "                     sep='\\t',\n",
    "                     names=colnames,\n",
    "                     index_col='site_no',\n",
    "                     dtype={'huc_code':'str','real_time':'boolean'}).drop(['alt_a'],axis=1)\n",
    "\n",
    "#Drop rows with null values\n",
    "dfNWIS.dropna(inplace=True)\n",
    "\n",
    "#Display\n",
    "dfNWIS.head()"
   ]
  },
  {
   "cell_type": "code",
   "execution_count": null,
   "metadata": {},
   "outputs": [],
   "source": [
    "#Create a geodataframe from our data\n",
    "geom = [Point(xyz) for xyz in zip(dfNWIS['lng'],dfNWIS['lat'],dfNWIS['alt'])]\n",
    "gdfNWIS = gpd.GeoDataFrame(dfNWIS,geometry=geom,crs=4269)"
   ]
  },
  {
   "cell_type": "code",
   "execution_count": null,
   "metadata": {},
   "outputs": [],
   "source": [
    "#Create another geodataframe from the NC HUC 8 data\n",
    "gdfHUC12 = gpd.read_file('./data/12Digit_HUC_Subwatersheds.shp')"
   ]
  },
  {
   "cell_type": "code",
   "execution_count": null,
   "metadata": {},
   "outputs": [],
   "source": [
    "#Create a map of just NC boundary by dissolving the HUCs\n",
    "gdf_NC = gdfHUC12.dissolve(gdfHUC12['ACRES']/gdfHUC12['ACRES'])"
   ]
  },
  {
   "cell_type": "markdown",
   "metadata": {},
   "source": [
    "## Static plots\n",
    "### Geopandas\n",
    "First a review of plotting geopandas dataframes. Full documentation is here:  \n",
    "* Documentation: https://geopandas.org/mapping.html\n",
    "* Reference: https://geopandas.org/reference.html#geopandas.GeoDataFrame.plot"
   ]
  },
  {
   "cell_type": "code",
   "execution_count": null,
   "metadata": {},
   "outputs": [],
   "source": [
    "#Plot point objects\n",
    "gdfNWIS.plot();"
   ]
  },
  {
   "cell_type": "code",
   "execution_count": null,
   "metadata": {},
   "outputs": [],
   "source": [
    "#Quick look at distribution of the alt values\n",
    "gdfNWIS['alt'].hist();"
   ]
  },
  {
   "cell_type": "code",
   "execution_count": null,
   "metadata": {},
   "outputs": [],
   "source": [
    "#Plot a field, setting aesthetics\n",
    "gdfNWIS.plot(\n",
    "    column='alt',\n",
    "    cmap='terrain',\n",
    "    legend=True,\n",
    "    marker='.',\n",
    "    markersize=30,\n",
    "    alpha=0.3,\n",
    "    figsize=(12,4),\n",
    ");"
   ]
  },
  {
   "cell_type": "code",
   "execution_count": null,
   "metadata": {},
   "outputs": [],
   "source": [
    "#Another example: HUCs\n",
    "gdfHUC12.plot(\n",
    "    column=\"ACRES\",\n",
    "    scheme=\"quantiles\",\n",
    "    k=5,\n",
    "    legend=True,\n",
    "    legend_kwds={'loc': 'lower left'},\n",
    "    cmap='YlOrRd',\n",
    "    alpha=0.5,\n",
    "    figsize=(19,4)\n",
    ");"
   ]
  },
  {
   "cell_type": "markdown",
   "metadata": {},
   "source": [
    "► Multi layer plot"
   ]
  },
  {
   "cell_type": "code",
   "execution_count": null,
   "metadata": {},
   "outputs": [],
   "source": [
    "#Start by saving the first plot to a variable (often \"ax\")\n",
    "ax = gdfHUC12.plot(\n",
    "    column='HUC_8',\n",
    "    cmap='tab20',\n",
    "    edgecolor='darkgrey',\n",
    "    linewidth=0.3,\n",
    "    alpha=0.3,\n",
    "    figsize=(16,8)\n",
    ")\n",
    "\n",
    "#Then add the other layers, assiging the property ax to the variable above\n",
    "gdfNWIS.plot(\n",
    "    ax=ax,\n",
    "    column='alt',\n",
    "    cmap='terrain',\n",
    "    marker='.',\n",
    "    markersize=30,\n",
    "    alpha=0.9\n",
    ");\n",
    "\n",
    "#Then add the boundary\n",
    "gdf_NC.boundary.plot(ax=ax,color='black');"
   ]
  },
  {
   "cell_type": "markdown",
   "metadata": {},
   "source": [
    "### Adding a basemap with Contextily\n",
    "Docs: https://contextily.readthedocs.io/en/latest/intro_guide.html\n",
    "Contextily enables us to add basemaps to our plots."
   ]
  },
  {
   "cell_type": "code",
   "execution_count": null,
   "metadata": {},
   "outputs": [],
   "source": [
    "#As above...\n",
    "ax = gdfNWIS.plot(\n",
    "    column='alt',\n",
    "    cmap='terrain',\n",
    "    alpha=1,\n",
    "    figsize=(16,9)\n",
    ")\n",
    "\n",
    "#Add the state line\n",
    "gdf_NC.boundary.plot(ax=ax)\n",
    "\n",
    "#Now add a basemap; note we have to supply the crs\n",
    "theCRS = gdfNWIS.crs\n",
    "cx.add_basemap(ax,crs=theCRS)"
   ]
  },
  {
   "cell_type": "markdown",
   "metadata": {},
   "source": [
    "→ Same plot as above, but we transform our data to match contextily's (EPSG 3857 - Web Mercator), and it plots faster!"
   ]
  },
  {
   "cell_type": "code",
   "execution_count": null,
   "metadata": {},
   "outputs": [],
   "source": [
    "#As above, but transform our data to epsg 3857\n",
    "ax = gdfNWIS.to_crs(3857).plot(\n",
    "    column='alt',\n",
    "    cmap='terrain',\n",
    "    alpha=1,\n",
    "    figsize=(16,9)\n",
    ")\n",
    "\n",
    "#Add the state line\n",
    "gdf_NC.boundary.to_crs(3857).plot(ax=ax)\n",
    "\n",
    "#Now add a basemap; note we have to supply the crs\n",
    "cx.add_basemap(ax)"
   ]
  },
  {
   "cell_type": "markdown",
   "metadata": {},
   "source": [
    "We can change the basemap used by selecting the basemap provider and then seeing what basemaps each provides:"
   ]
  },
  {
   "cell_type": "code",
   "execution_count": null,
   "metadata": {},
   "outputs": [],
   "source": [
    "#View the providers\n",
    "cx.providers.keys()"
   ]
  },
  {
   "cell_type": "code",
   "execution_count": null,
   "metadata": {},
   "outputs": [],
   "source": [
    "#View the basemaps provided by Stamen\n",
    "cx.providers.Stamen.keys()"
   ]
  },
  {
   "cell_type": "code",
   "execution_count": null,
   "metadata": {},
   "outputs": [],
   "source": [
    "#As above, but transform our data to epsg 3857\n",
    "ax = gdfNWIS.to_crs(3857).plot(\n",
    "    column='alt',\n",
    "    cmap='terrain',\n",
    "    alpha=1,\n",
    "    figsize=(16,9)\n",
    ")\n",
    "\n",
    "#Add the state line\n",
    "gdf_NC.boundary.to_crs(3857).plot(ax=ax)\n",
    "\n",
    "#Now add a basemap; note we have to supply the crs\n",
    "cx.add_basemap(ax,source=cx.providers.Stamen.Watercolor)"
   ]
  },
  {
   "cell_type": "markdown",
   "metadata": {},
   "source": [
    "## Interactive Maps\n",
    "\n",
    "### Easy maps with `mplleaflet`\n",
    "Docs: https://github.com/jwass/mplleaflet"
   ]
  },
  {
   "cell_type": "code",
   "execution_count": null,
   "metadata": {},
   "outputs": [],
   "source": [
    "#As above, but transform our data to epsg 3857\n",
    "ax = gdfHUC12.plot(\n",
    "    column='HUC_8',\n",
    "    cmap='tab20',\n",
    "    edgecolor='darkgrey',\n",
    "    linewidth=0.3,\n",
    "    alpha=0.3,\n",
    "    figsize=(16,8)\n",
    ")\n",
    "\n",
    "#Then add the other layers, assiging the property ax to the variable above\n",
    "gdfNWIS.plot(\n",
    "    ax=ax,\n",
    "    column='alt',\n",
    "    cmap='terrain',\n",
    "    marker='.',\n",
    "    markersize=30,\n",
    "    alpha=0.9\n",
    ");\n",
    "\n",
    "#Then add the boundary\n",
    "gdf_NC.boundary.plot(ax=ax,color='black');\n",
    "\n",
    "#Now, the magic! uncomment and run again\n",
    "#mplleaflet.show()"
   ]
  },
  {
   "cell_type": "markdown",
   "metadata": {},
   "source": [
    "## Visualizing with the `folium` package\n",
    "https://python-visualization.github.io/folium/\n",
    "\n",
    "Folium is a Python wrapper for the JavaScript \"Leaflet\" Package..."
   ]
  },
  {
   "cell_type": "code",
   "execution_count": null,
   "metadata": {},
   "outputs": [],
   "source": [
    "import folium\n",
    "folium.__version__"
   ]
  },
  {
   "cell_type": "markdown",
   "metadata": {},
   "source": [
    "### Setting up to visualize our data\n",
    "We are going to construct a map, and when we do, we'll have to specify where our map should be centered and how far zoomed it should be. To compute the center, we can easily compute the median Lat and Long values from our data..."
   ]
  },
  {
   "cell_type": "code",
   "execution_count": null,
   "metadata": {},
   "outputs": [],
   "source": [
    "#Determine the median lat/lng\n",
    "medianLat = dfNWIS['lat'].median()\n",
    "medianLng = dfNWIS['lng'].median()\n",
    "print (medianLat,medianLng)"
   ]
  },
  {
   "cell_type": "code",
   "execution_count": null,
   "metadata": {},
   "outputs": [],
   "source": [
    "#Construct the map\n",
    "m = folium.Map(location=[medianLat,medianLng],\n",
    "               zoom_start = 7,\n",
    "               tiles='OpenStreetMap'              \n",
    "             )\n",
    "#Display the map\n",
    "m"
   ]
  },
  {
   "cell_type": "markdown",
   "metadata": {},
   "source": [
    "Try:\n",
    "* Change the zoom value: does higher or lower values zoom in to a smaller area?\n",
    "* Change the tiles to `Stamen Terrain`,`Stamen Watercolor`, `Stamen Toner`. [more](https://python-visualization.github.io/folium/quickstart.html#Getting-Started)."
   ]
  },
  {
   "cell_type": "code",
   "execution_count": null,
   "metadata": {},
   "outputs": [],
   "source": [
    "#Create the marker, we'll use a circle Marker\n",
    "myMarker = folium.CircleMarker(location=[medianLat,medianLng],\n",
    "                               color='red',\n",
    "                               fill=True,\n",
    "                               fill_opacity=0.5,\n",
    "                               radius=30,\n",
    "                               tooltip='Map Center'\n",
    "                              )\n",
    "myMarker.add_to(m)\n",
    "m"
   ]
  },
  {
   "cell_type": "code",
   "execution_count": null,
   "metadata": {},
   "outputs": [],
   "source": [
    "#Recreate the map object to clear markers\n",
    "m = folium.Map(location=[medianLat,medianLng],\n",
    "               zoom_start = 7,\n",
    "               tiles='OpenStreetMap'              \n",
    "             )\n",
    "\n",
    "#Loop through all features and add them to the map as markers\n",
    "for row in dfNWIS.itertuples():\n",
    "    #Get info for the record\n",
    "    lat = row.lat\n",
    "    lng = row.lng\n",
    "    site_no = row.station_nm\n",
    "    #Create the marker object, adding them to the map object\n",
    "    folium.CircleMarker(location=[lat,lng],\n",
    "                        color='blue',\n",
    "                        fill=True,\n",
    "                        fill_opacity=0.6,\n",
    "                        radius=3,\n",
    "                        tooltip=site_no\n",
    "                       ).add_to(m)\n",
    "#Show the map\n",
    "m"
   ]
  },
  {
   "cell_type": "code",
   "execution_count": null,
   "metadata": {},
   "outputs": [],
   "source": [
    "#Import the folium MarkerCluster object class\n",
    "from folium.plugins import MarkerCluster\n",
    "\n",
    "#Recreate the map object to clear markers\n",
    "m = folium.Map(location=[medianLat,medianLng],\n",
    "               zoom_start = 7,\n",
    "               tiles='cartodbpositron'              \n",
    "             )\n",
    "\n",
    "#Create a marker cluster object\n",
    "mc = MarkerCluster()\n",
    "\n",
    "#Loop through all features and add them to the map as markers\n",
    "for row in dfNWIS.itertuples():\n",
    "    #Get info for the record\n",
    "    lat = row.lat\n",
    "    lng = row.lng\n",
    "    site_no = row.station_nm\n",
    "    #Create the marker object, adding them to the map object\n",
    "    marker = folium.CircleMarker(location=[lat,lng],\n",
    "                                 color='blue',\n",
    "                                 fill=True,\n",
    "                                 fill_opacity=0.6,\n",
    "                                 radius=3,\n",
    "                                 tooltip=site_no)\n",
    "    #Add the marker to the markerCluster\n",
    "    mc.add_child(marker)\n",
    "    \n",
    "#Add marker clusters to the map\n",
    "m.add_child(mc)\n",
    "\n",
    "#Show the map\n",
    "m"
   ]
  },
  {
   "cell_type": "markdown",
   "metadata": {},
   "source": [
    "---\n",
    "## GeoPandas → MatPlotLib\n",
    "GeoPandas has some plotting capabilities to visualize geodataframes. We can also plot geodataframes on a leaflet map by converting the dataframe to GeoJSON object. \n",
    "\n",
    "Resource: http://geopandas.org/mapping.html#"
   ]
  },
  {
   "cell_type": "markdown",
   "metadata": {},
   "source": [
    "By importing Matplotlib's pyplot interface, we can add more mapping functionality. Specifically, once we create a figure, we can access it as the pyploy or \"`plt`\" object, and then we can apply aesthetics to this object."
   ]
  },
  {
   "cell_type": "code",
   "execution_count": null,
   "metadata": {},
   "outputs": [],
   "source": [
    "#Plot the data, this time coloring features by it's longitude value\n",
    "gdfNWIS.plot('lng',          #The column with values to color \n",
    "             cmap='Reds',    #The colormap to use for the colors\n",
    "             figsize=(12,8)) #The size of the map\n",
    "\n",
    "#Add aesthetics via the matplotlib pyplt interface\n",
    "plt.title(\"Map\") #Add a title to the figure\n",
    "plt.grid()       #Add gridlines\n",
    "plt.plot();      #Display the plots"
   ]
  },
  {
   "cell_type": "markdown",
   "metadata": {},
   "source": [
    "#### Polygon data"
   ]
  },
  {
   "cell_type": "code",
   "execution_count": null,
   "metadata": {
    "scrolled": true
   },
   "outputs": [],
   "source": [
    "#Plot, colored by a discrete attribute\n",
    "gdfHUC12.plot('HUC_8',cmap='tab20');"
   ]
  },
  {
   "cell_type": "code",
   "execution_count": null,
   "metadata": {},
   "outputs": [],
   "source": [
    "#Dissolve on HUC_8\n",
    "gdfHUC8 = gdfHUC12.dissolve(by='HUC_8')"
   ]
  },
  {
   "cell_type": "code",
   "execution_count": null,
   "metadata": {},
   "outputs": [],
   "source": [
    "#Project and compute areas\n",
    "gdfHUC8_utm = gdfHUC8.to_crs(26917)\n",
    "gdfHUC8_utm['area_m2'] = gdfHUC8_utm['geometry'].area"
   ]
  },
  {
   "cell_type": "code",
   "execution_count": null,
   "metadata": {},
   "outputs": [],
   "source": [
    "#Plot, colored by a contiuous attribute\n",
    "gdfHUC8_utm.plot('area_m2',\n",
    "                 cmap='coolwarm',\n",
    "                 legend=True,\n",
    "                 edgecolor='black',\n",
    "                 figsize=(15,5))\n",
    "plt.grid(True)\n",
    "plt.xlabel('UTM Easting')\n",
    "plt.ylabel('UTM Northing');"
   ]
  },
  {
   "cell_type": "code",
   "execution_count": null,
   "metadata": {},
   "outputs": [],
   "source": [
    "#Subset HUC 8 = 03020201 (Upper Neuse)\n",
    "gdfNeuse = gdfHUC12.query('HUC_8 == \"03020201\"')\n",
    "gdfNeuse.plot('ACRES',cmap='Blues',edgecolor='grey');"
   ]
  },
  {
   "cell_type": "markdown",
   "metadata": {},
   "source": [
    "#### Plotting multiple layers\n",
    "By assigning the first plot to a variable name (here `theMap`), we can add more layers by specifying which axis to plot the layer on top of.  "
   ]
  },
  {
   "cell_type": "code",
   "execution_count": null,
   "metadata": {},
   "outputs": [],
   "source": [
    "#Plot the HUC8s, assigning the plot to the variable \"theMap\"\n",
    "theMap = gdfHUC8_utm.plot('area_m2',cmap='twilight',legend=True,figsize=(15,5))\n",
    "plt.grid(True)\n",
    "plt.xlabel('UTM Easting')\n",
    "plt.ylabel('UTM Northing')\n",
    "\n",
    "#Plot the Neuse (projected to UTM) on top by specifing that it use the same axes\n",
    "gdfNeuse.to_crs(26917).plot(ax=theMap,color='green');"
   ]
  },
  {
   "cell_type": "markdown",
   "metadata": {},
   "source": [
    "#### Displaying a geopandas dataframe in a folium map"
   ]
  },
  {
   "cell_type": "code",
   "execution_count": null,
   "metadata": {},
   "outputs": [],
   "source": [
    "#Create a folium map\n",
    "m = folium.Map(location=[medianLat,medianLng],\n",
    "               zoom_start = 8,\n",
    "               tiles='OpenStreetMap'              \n",
    "             )\n",
    "#Convert the geopandas dataframe to a GeoJSON object\n",
    "gdfNeuse_json = gdfNeuse.to_json()\n",
    "#Convert the GeoJSon object to a folium layer\n",
    "gdfNeuse_layer = folium.GeoJson(gdfNeuse_json)\n",
    "#Add the layer to the map\n",
    "gdfNeuse_layer.add_to(m)\n",
    "#Show the map\n",
    "m"
   ]
  },
  {
   "cell_type": "code",
   "execution_count": null,
   "metadata": {},
   "outputs": [],
   "source": []
  }
 ],
 "metadata": {
  "kernelspec": {
   "display_name": "Python 3",
   "language": "python",
   "name": "python3"
  },
  "language_info": {
   "codemirror_mode": {
    "name": "ipython",
    "version": 3
   },
   "file_extension": ".py",
   "mimetype": "text/x-python",
   "name": "python",
   "nbconvert_exporter": "python",
   "pygments_lexer": "ipython3",
   "version": "3.6.12"
  }
 },
 "nbformat": 4,
 "nbformat_minor": 2
}
