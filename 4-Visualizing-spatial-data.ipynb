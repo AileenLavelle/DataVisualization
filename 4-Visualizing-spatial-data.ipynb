{
 "cells": [
  {
   "cell_type": "markdown",
   "metadata": {},
   "source": [
    "# Visualizing spatial data in Python\n",
    "We have a number of options for displaying spatial data using Python. Here we use folium, geopandas, and the ArcGIS Python API to display point and polygon data. "
   ]
  },
  {
   "cell_type": "markdown",
   "metadata": {},
   "source": [
    "## Getting data\n",
    "First we'll fetch some NWIS gage location data to plot. "
   ]
  },
  {
   "cell_type": "code",
   "execution_count": null,
   "metadata": {},
   "outputs": [],
   "source": [
    "#Import pandas\n",
    "import pandas as pd"
   ]
  },
  {
   "cell_type": "code",
   "execution_count": null,
   "metadata": {},
   "outputs": [],
   "source": [
    "#Get the list of site names for NC using the NWIS API\n",
    "theURL = ('https://waterdata.usgs.gov/nwis/inventory?' + \\\n",
    "          'state_cd=nc&' + \\\n",
    "          'group_key=NONE&' + \\\n",
    "          'format=sitefile_output&' + \\\n",
    "          'sitefile_output_format=rdb&' + \\\n",
    "          'column_name=site_no&' + \\\n",
    "          'column_name=station_nm&' + \\\n",
    "          'column_name=site_tp_cd&' + \\\n",
    "          'column_name=dec_lat_va&' + \\\n",
    "          'column_name=dec_long_va&' + \\\n",
    "          'column_name=drain_area_va&' + \\\n",
    "          'list_of_search_criteria=state_cd')\n",
    "colnames=['site_no','station_nm','site_tp_cd','lat','lng','agent','datum','d_area']\n",
    "\n",
    "#Pull the data from the URL\n",
    "dfNWIS = pd.read_csv(theURL,skiprows=29,sep='\\t',names=colnames,index_col='site_no')\n",
    "\n",
    "#Drop rows with null values\n",
    "dfNWIS.dropna(inplace=True)\n",
    "\n",
    "#Display\n",
    "dfNWIS.head()"
   ]
  },
  {
   "cell_type": "markdown",
   "metadata": {},
   "source": [
    "## Setting up to visualize our data\n",
    "We are going to construct a map, and when we do, we'll have to specify where our map should be centered and how far zoomed it should be. To compute the center, we can easily compute the median Lat and Long values from our data..."
   ]
  },
  {
   "cell_type": "code",
   "execution_count": null,
   "metadata": {},
   "outputs": [],
   "source": [
    "#Determine the median lat/lng\n",
    "medianLat = dfNWIS['lat'].median()\n",
    "medianLng = dfNWIS['lng'].median()\n",
    "print (medianLat,medianLng)"
   ]
  },
  {
   "cell_type": "markdown",
   "metadata": {},
   "source": [
    "## Visualizing with the `folium` package\n",
    "https://python-visualization.github.io/folium/\n",
    "\n",
    "Folium is a Python wrapper for the JavaScript \"Leaflet\" Package..."
   ]
  },
  {
   "cell_type": "code",
   "execution_count": null,
   "metadata": {},
   "outputs": [],
   "source": [
    "import folium\n",
    "folium.__version__"
   ]
  },
  {
   "cell_type": "code",
   "execution_count": null,
   "metadata": {},
   "outputs": [],
   "source": [
    "#Construct the map\n",
    "m = folium.Map(location=[medianLat,medianLng],\n",
    "               zoom_start = 7,\n",
    "               tiles='Stamen Watercolor'              \n",
    "             )\n",
    "#Display the map\n",
    "m"
   ]
  },
  {
   "cell_type": "markdown",
   "metadata": {},
   "source": [
    "Try:\n",
    "* Change the zoom value: does higher or lower values zoom in to a smaller area?\n",
    "* Change the tiles to `Stamen Terrain`,`Stamen Watercolor`, `Stamen Toner`. [more](https://python-visualization.github.io/folium/quickstart.html#Getting-Started)."
   ]
  },
  {
   "cell_type": "code",
   "execution_count": null,
   "metadata": {
    "scrolled": true
   },
   "outputs": [],
   "source": [
    "#Create the marker, we'll use a circle Marker\n",
    "myMarker = folium.CircleMarker(location=[medianLat,medianLng],\n",
    "                               color='red',\n",
    "                               fill=True,\n",
    "                               fill_opacity=0.5,\n",
    "                               radius=30,\n",
    "                               tooltip='Map Center'\n",
    "                              )\n",
    "myMarker.add_to(m)\n",
    "m"
   ]
  },
  {
   "cell_type": "code",
   "execution_count": null,
   "metadata": {},
   "outputs": [],
   "source": [
    "#Recreate the map object to clear markers\n",
    "m = folium.Map(location=[medianLat,medianLng],\n",
    "               zoom_start = 7,\n",
    "               tiles='OpenStreetMap'              \n",
    "             )\n",
    "\n",
    "#Loop through all features and add them to the map as markers\n",
    "for row in dfNWIS.itertuples():\n",
    "    #Get info for the record\n",
    "    lat = row.lat\n",
    "    lng = row.lng\n",
    "    site_no = row.station_nm\n",
    "    #Create the marker object, adding them to the map object\n",
    "    folium.CircleMarker(location=[lat,lng],\n",
    "                        color='blue',\n",
    "                        fill=True,\n",
    "                        fill_opacity=0.6,\n",
    "                        radius=3,\n",
    "                        tooltip=site_no\n",
    "                       ).add_to(m)\n",
    "#Show the map\n",
    "m"
   ]
  },
  {
   "cell_type": "code",
   "execution_count": null,
   "metadata": {},
   "outputs": [],
   "source": [
    "#Import the folium MarkerCluster object class\n",
    "from folium.plugins import MarkerCluster\n",
    "\n",
    "#Recreate the map object to clear markers\n",
    "m = folium.Map(location=[medianLat,medianLng],\n",
    "               zoom_start = 7,\n",
    "               tiles='cartodbpositron'              \n",
    "             )\n",
    "\n",
    "#Create a marker cluster object\n",
    "mc = MarkerCluster()\n",
    "\n",
    "#Loop through all features and add them to the map as markers\n",
    "for row in dfNWIS.itertuples():\n",
    "    #Get info for the record\n",
    "    lat = row.lat\n",
    "    lng = row.lng\n",
    "    site_no = row.station_nm\n",
    "    #Create the marker object, adding them to the map object\n",
    "    marker = folium.CircleMarker(location=[lat,lng],\n",
    "                                 color='blue',\n",
    "                                 fill=True,\n",
    "                                 fill_opacity=0.6,\n",
    "                                 radius=3,\n",
    "                                 tooltip=site_no)\n",
    "    #Add the marker to the markerCluster\n",
    "    mc.add_child(marker)\n",
    "    \n",
    "#Add marker clusters to the map\n",
    "m.add_child(mc)\n",
    "\n",
    "#Show the map\n",
    "m"
   ]
  },
  {
   "cell_type": "markdown",
   "metadata": {},
   "source": [
    "---\n",
    "## GeoPandas\n",
    "GeoPandas has some plotting capabilities to visualize geodataframes. We can also plot geodataframes on a leaflet map by converting the dataframe to GeoJSON object. \n",
    "\n",
    "Resource: http://geopandas.org/mapping.html#"
   ]
  },
  {
   "cell_type": "code",
   "execution_count": null,
   "metadata": {},
   "outputs": [],
   "source": [
    "import geopandas as gpd\n",
    "from shapely.geometry import Point"
   ]
  },
  {
   "cell_type": "code",
   "execution_count": null,
   "metadata": {},
   "outputs": [],
   "source": [
    "#Create point objects from our coordinate fields\n",
    "thePoints = [Point(xy) for xy in zip(dfNWIS['lng'],dfNWIS['lat'])]"
   ]
  },
  {
   "cell_type": "code",
   "execution_count": null,
   "metadata": {},
   "outputs": [],
   "source": [
    "#Convert the dataframe to a geodataframe\n",
    "gdfNWIS = gpd.GeoDataFrame(dfNWIS,geometry=thePoints,crs={'init:''epsg:4326'})"
   ]
  },
  {
   "cell_type": "code",
   "execution_count": null,
   "metadata": {},
   "outputs": [],
   "source": [
    "#Plot the data\n",
    "%matplotlib inline\n",
    "gdfNWIS.plot();"
   ]
  },
  {
   "cell_type": "markdown",
   "metadata": {},
   "source": [
    "By importing Matplotlib's pyplot interface, we can add more mapping functionality. Specifically, once we create a figure, we can access it as the pyploy or \"`plt`\" object, and then we can apply aesthetics to this object."
   ]
  },
  {
   "cell_type": "code",
   "execution_count": null,
   "metadata": {},
   "outputs": [],
   "source": [
    "import matplotlib.pyplot as plt"
   ]
  },
  {
   "cell_type": "code",
   "execution_count": null,
   "metadata": {},
   "outputs": [],
   "source": [
    "#Plot the data, this time coloring features by it's longitude value\n",
    "gdfNWIS.plot('lng',          #The column with values to color \n",
    "             cmap='Reds',    #The colormap to use for the colors\n",
    "             figsize=(12,8)) #The size of the map\n",
    "\n",
    "#Add aesthetics via the matplotlib pyplt interface\n",
    "plt.title(\"Map\") #Add a title to the figure\n",
    "plt.grid()       #Add gridlines\n",
    "plt.plot();      #Display the plots"
   ]
  },
  {
   "cell_type": "markdown",
   "metadata": {},
   "source": [
    "#### Polygon data"
   ]
  },
  {
   "cell_type": "code",
   "execution_count": null,
   "metadata": {},
   "outputs": [],
   "source": [
    "#Read in a polygon shapefile\n",
    "gdfHUCs = gpd.read_file('./data/12Digit_HUC_Subwatersheds.shp')\n",
    "gdfHUCs.head(2)"
   ]
  },
  {
   "cell_type": "code",
   "execution_count": null,
   "metadata": {},
   "outputs": [],
   "source": [
    "#Simple plot\n",
    "gdfHUCs.plot();"
   ]
  },
  {
   "cell_type": "code",
   "execution_count": null,
   "metadata": {
    "scrolled": true
   },
   "outputs": [],
   "source": [
    "#Plot, colored by a discrete attribute\n",
    "gdfHUCs.plot('HUC_8',cmap='tab20');"
   ]
  },
  {
   "cell_type": "code",
   "execution_count": null,
   "metadata": {},
   "outputs": [],
   "source": [
    "#Dissolve on HUC_8\n",
    "gdfHUC8 = gdfHUCs.dissolve(by='HUC_8')"
   ]
  },
  {
   "cell_type": "code",
   "execution_count": null,
   "metadata": {},
   "outputs": [],
   "source": [
    "#Fix issue with pyproj \n",
    "import sys, os\n",
    "pythonPath = sys.executable\n",
    "pythonFolder = os.path.dirname(pythonPath)\n",
    "shareFolder = os.path.join(pythonFolder,'Library','share')\n",
    "os.environ[\"PROJ_LIB\"] = shareFolder"
   ]
  },
  {
   "cell_type": "code",
   "execution_count": null,
   "metadata": {},
   "outputs": [],
   "source": [
    "#Project and compute areas\n",
    "gdfHUC8_utm = gdfHUC8.to_crs({'init':'epsg:26917'})\n",
    "gdfHUC8_utm['area_m2'] = gdfHUC8_utm['geometry'].area"
   ]
  },
  {
   "cell_type": "code",
   "execution_count": null,
   "metadata": {},
   "outputs": [],
   "source": [
    "#Plot, colored by a contiuous attribute\n",
    "gdfHUC8_utm.plot('area_m2',cmap='autumn',legend=True,figsize=(15,5))\n",
    "plt.grid(True)\n",
    "plt.xlabel('UTM Easting')\n",
    "plt.ylabel('UTM Northing');"
   ]
  },
  {
   "cell_type": "code",
   "execution_count": null,
   "metadata": {},
   "outputs": [],
   "source": [
    "#Subset HUC 8 = 03020201 (Upper Neuse)\n",
    "gdfNeuse = gdfHUCs.query('HUC_8 == \"03020201\"')\n",
    "gdfNeuse.plot();"
   ]
  },
  {
   "cell_type": "markdown",
   "metadata": {},
   "source": [
    "#### Plotting multiple layers\n",
    "By assigning the first plot to a variable name (here `theMap`), we can add more layers by specifying which axis to plot the layer on top of.  "
   ]
  },
  {
   "cell_type": "code",
   "execution_count": null,
   "metadata": {},
   "outputs": [],
   "source": [
    "#Plot the HUC8s, assigning the plot to the variable \"theMap\"\n",
    "theMap = gdfHUC8_utm.plot('area_m2',cmap='autumn',legend=True,figsize=(15,5))\n",
    "plt.grid(True)\n",
    "plt.xlabel('UTM Easting')\n",
    "plt.ylabel('UTM Northing')\n",
    "\n",
    "#Plot the Neuse (projected to UTM) on top by specifing that it use the same axes\n",
    "gdfNeuse.to_crs({'init':'epsg:26917'}).plot(ax=theMap,color='green');"
   ]
  },
  {
   "cell_type": "markdown",
   "metadata": {},
   "source": [
    "#### Displaying a geopandas dataframe in a folium map"
   ]
  },
  {
   "cell_type": "code",
   "execution_count": null,
   "metadata": {},
   "outputs": [],
   "source": [
    "#Create a folium map\n",
    "m = folium.Map(location=[medianLat,medianLng],\n",
    "               zoom_start = 8,\n",
    "               tiles='OpenStreetMap'              \n",
    "             )\n",
    "#Convert the geopandas dataframe to a GeoJSON object\n",
    "gdfNeuse_json = gdfNeuse.to_json()\n",
    "#Convert the GeoJSon object to a folium layer\n",
    "gdfNeuse_layer = folium.GeoJson(gdfNeuse_json)\n",
    "#Add the layer to the map\n",
    "gdfNeuse_layer.add_to(m)\n",
    "#Show the map\n",
    "m"
   ]
  }
 ],
 "metadata": {
  "kernelspec": {
   "display_name": "Python 3",
   "language": "python",
   "name": "python3"
  },
  "language_info": {
   "codemirror_mode": {
    "name": "ipython",
    "version": 3
   },
   "file_extension": ".py",
   "mimetype": "text/x-python",
   "name": "python",
   "nbconvert_exporter": "python",
   "pygments_lexer": "ipython3",
   "version": "3.6.8"
  }
 },
 "nbformat": 4,
 "nbformat_minor": 2
}
