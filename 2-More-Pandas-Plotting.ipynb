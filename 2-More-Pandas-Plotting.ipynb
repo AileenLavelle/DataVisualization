{
 "cells": [
  {
   "cell_type": "code",
   "execution_count": null,
   "metadata": {},
   "outputs": [],
   "source": [
    "#Import packages\n",
    "import pandas as pd\n",
    "%matplotlib inline"
   ]
  },
  {
   "cell_type": "code",
   "execution_count": null,
   "metadata": {},
   "outputs": [],
   "source": [
    "#Read the csv file, setting 'site_no' to string and 'datetime' as date time object \n",
    "df = pd.read_csv('./data/GageData.csv', \n",
    "                 dtype={'site_no':'str'},\n",
    "                 parse_dates=['datetime']) "
   ]
  },
  {
   "cell_type": "markdown",
   "metadata": {},
   "source": [
    "Create new \"month\" and \"year\" columns in our dataframe"
   ]
  },
  {
   "cell_type": "code",
   "execution_count": null,
   "metadata": {},
   "outputs": [],
   "source": [
    "#Extract new month and year columns from the \"datetime\" column\n",
    "df['month'] = df['datetime'].dt.month\n",
    "df['year'] = df['datetime'].dt.year"
   ]
  },
  {
   "cell_type": "markdown",
   "metadata": {},
   "source": [
    "Calculate \"water year\" - following year if in Oct, Nov, Dec"
   ]
  },
  {
   "cell_type": "code",
   "execution_count": null,
   "metadata": {},
   "outputs": [],
   "source": [
    "#Default water year is the current year\n",
    "df['water_year'] = df['year']\n",
    "#Update records in Oct, Nov, and Dec to year + 1\n",
    "df.loc[df['month']>=10,'water_year'] = df['year'] + 1"
   ]
  },
  {
   "cell_type": "code",
   "execution_count": null,
   "metadata": {},
   "outputs": [],
   "source": [
    "#Examine the data\n",
    "df.sample(5)"
   ]
  },
  {
   "cell_type": "markdown",
   "metadata": {},
   "source": [
    "Compute a new column indicating records before Falls Lake dam construction (before 1980) and after completion of Falls Lake dam (1984 and onwards). "
   ]
  },
  {
   "cell_type": "code",
   "execution_count": null,
   "metadata": {},
   "outputs": [],
   "source": [
    "#Step 1: Create masks base on year\n",
    "beforeMask = df['year'] < 1980\n",
    "afterMask = df['year'] >= 1984"
   ]
  },
  {
   "cell_type": "code",
   "execution_count": null,
   "metadata": {},
   "outputs": [],
   "source": [
    "#Step 2: Use the masks as \"loc\" row index filters, setting the [new] status column values\n",
    "df.loc[beforeMask,'Status'] = \"Before dam\"\n",
    "df.loc[afterMask,'Status'] = \"After dam\""
   ]
  },
  {
   "cell_type": "code",
   "execution_count": null,
   "metadata": {},
   "outputs": [],
   "source": [
    "#Examine the data\n",
    "df.sample(5)"
   ]
  },
  {
   "cell_type": "markdown",
   "metadata": {},
   "source": [
    "### Plotting"
   ]
  },
  {
   "cell_type": "code",
   "execution_count": null,
   "metadata": {},
   "outputs": [],
   "source": [
    "#Create a basic plot of the MeanFlow_csf column\n",
    "df['MeanFlow_cfs'].plot();"
   ]
  },
  {
   "cell_type": "code",
   "execution_count": null,
   "metadata": {},
   "outputs": [],
   "source": [
    "#Explicitl ySet which columns are used to set the X and Y axes\n",
    "df.plot(x='datetime',y='MeanFlow_cfs');"
   ]
  },
  {
   "cell_type": "code",
   "execution_count": null,
   "metadata": {},
   "outputs": [],
   "source": [
    "#Alternatively, set the datetime column to be the dataframe's index\n",
    "df2 = df.set_index('datetime')\n",
    "df2.plot(y='MeanFlow_cfs');"
   ]
  },
  {
   "cell_type": "code",
   "execution_count": null,
   "metadata": {},
   "outputs": [],
   "source": [
    "#Repeat above, but add some \"aesthetics\"\n",
    "df.plot(\n",
    "    x='datetime',\n",
    "    y='MeanFlow_cfs',\n",
    "    kind='line',\n",
    "    figsize=(10,5),#figure size\n",
    "    lw=0.2,        #line weigth\n",
    "    alpha=0.4,     #opacticty\n",
    "    color='green', #color\n",
    "    title='Neuse River near Clayton, NC',\n",
    ");"
   ]
  },
  {
   "cell_type": "code",
   "execution_count": null,
   "metadata": {},
   "outputs": [],
   "source": [
    "#Changing the aesthetics alters the message...\n",
    "df.plot(\n",
    "    x='month',\n",
    "    y='MeanFlow_cfs',\n",
    "    kind='scatter', #Changed from line to point\n",
    "    figsize=(10,5),\n",
    "    lw=0.2,        \n",
    "    alpha=0.1,      #Decreased the opacity\n",
    "    color='blue',   \n",
    "    title='Neuse River near Clayton, NC'\n",
    ");"
   ]
  },
  {
   "cell_type": "code",
   "execution_count": null,
   "metadata": {},
   "outputs": [],
   "source": [
    "#Create a box and whiskers plot of our MeanFlow_cms values\n",
    "df.boxplot(column='MeanFlow_cfs');"
   ]
  },
  {
   "cell_type": "code",
   "execution_count": null,
   "metadata": {},
   "outputs": [],
   "source": [
    "#Create a box and whiskers plot of our MeanFlow_cms values, broken by status\n",
    "df.boxplot(column='MeanFlow_cfs',by='Status');"
   ]
  },
  {
   "cell_type": "code",
   "execution_count": null,
   "metadata": {},
   "outputs": [],
   "source": [
    "#Set aesthetics\n",
    "import matplotlib.pyplot as plt\n",
    "df.boxplot(column='MeanFlow_cfs',by='Status')\n",
    "plt.ylabel(\"Mean flow (cfs)\")\n",
    "plt.title(\"Mean flow before and after Falls Lake\")\n",
    "plt.suptitle(\"\");"
   ]
  },
  {
   "cell_type": "code",
   "execution_count": null,
   "metadata": {},
   "outputs": [],
   "source": [
    "#Create the canvas\n",
    "plt.figure(figsize=(20,6))\n",
    "\n",
    "#Add plot lines for the entire dataframe, then the two dataframe subsets\n",
    "plt.plot(df2['MeanFlow_cfs'],color='grey',linewidth=0.1) \n",
    "plt.plot(df2.loc[df2['year']<1980,'MeanFlow_cfs'],color='green',alpha=0.5,linewidth=0.5)\n",
    "plt.plot(df2.loc[df2['year']>=1984,'MeanFlow_cfs'],color='blue',alpha=0.5,linewidth=0.5)\n",
    "\n",
    "#Add the aesthetics\n",
    "plt.title(\"Neuse River Near Goldsboro, NC\")\n",
    "plt.ylabel(\"Discharge (cfs)\")\n",
    "\n",
    "plt.axvline(x='1979-12-31',color='red',ls='--')\n",
    "plt.annotate('Construction begins',\n",
    "             xy=('1980',16000),\n",
    "             xytext=('1965',18000),\n",
    "             arrowprops=dict(facecolor='orange',shrink=0.05))\n",
    "\n",
    "\n",
    "plt.axvline(x='1984-01-01',color='red',ls='--')\n",
    "plt.annotate('Dam completed',\n",
    "             xy=('1984-01-01',16000),\n",
    "             xytext=('1993',21000),\n",
    "             arrowprops=dict(facecolor='orange',shrink=0.05))\n",
    "\n",
    "\n",
    "#Show the plot\n",
    "plt.show;"
   ]
  }
 ],
 "metadata": {
  "kernelspec": {
   "display_name": "Python 3",
   "language": "python",
   "name": "python3"
  },
  "language_info": {
   "codemirror_mode": {
    "name": "ipython",
    "version": 3
   },
   "file_extension": ".py",
   "mimetype": "text/x-python",
   "name": "python",
   "nbconvert_exporter": "python",
   "pygments_lexer": "ipython3",
   "version": "3.6.12"
  }
 },
 "nbformat": 4,
 "nbformat_minor": 2
}
