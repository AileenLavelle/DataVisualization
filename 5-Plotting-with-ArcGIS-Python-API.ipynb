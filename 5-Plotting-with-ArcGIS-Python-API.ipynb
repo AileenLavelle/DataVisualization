{
 "cells": [
  {
   "cell_type": "markdown",
   "metadata": {},
   "source": [
    "## Plotting with the ArcGIS Python API\n",
    "The ArcGIS Python API provides the \"map widget\" which improves on Foliums approach in that it has more of Python, less of a JavaScript interface. However, this API still seems to be under development and some aspects (especially these things called renderers) do appear to be more JavaScript than Python. Also, it appears only to work in the Jupyter Notebook setting, though it can be used to create ArcGIS Online Web Maps and also save static images. \n",
    "\n",
    "Nevertheless, it makes for a useful tool for vizualing spatial data. Below we examine a few quick examples, but the APS's documentation and examples are quite helpful in digging deeper into what it can do. \n",
    "\n",
    "https://developers.arcgis.com/python/guide/visualizing-data-with-the-spatially-enabled-dataframe/"
   ]
  },
  {
   "cell_type": "markdown",
   "metadata": {},
   "source": [
    "###  Project setup\n",
    "To start, we'll import the necessary packages and fetch datasets of NC HUC12s and some hog farm point locations within Duplin County. We'll also deal with spatial references among our datasets and then, to simplify the visualization, subset just the HUC12s containing hog farms... \n",
    "* Import packages"
   ]
  },
  {
   "cell_type": "code",
   "execution_count": null,
   "metadata": {},
   "outputs": [],
   "source": [
    "#Import pandas for interacting with the data\n",
    "import pandas as pd\n",
    "\n",
    "#Import the API's components\n",
    "from arcgis import GIS, GeoAccessor, GeoSeriesAccessor\n",
    "from arcgis.features import SpatialDataFrame\n",
    "\n",
    "#Connect to the GIS object\n",
    "gis = GIS()\n",
    "\n",
    "#Enable inline plotting. \n",
    "%matplotlib inline"
   ]
  },
  {
   "cell_type": "markdown",
   "metadata": {},
   "source": [
    "* Fetch data to visualize"
   ]
  },
  {
   "cell_type": "code",
   "execution_count": null,
   "metadata": {},
   "outputs": [],
   "source": [
    "#Get some data\n",
    "sdfHUC12s = GeoAccessor.from_featureclass('./data/12Digit_HUC_Subwatersheds.shp')\n",
    "sdfSites = GeoAccessor.from_featureclass('./data/DuplinSites_LL.shp')"
   ]
  },
  {
   "cell_type": "markdown",
   "metadata": {},
   "source": [
    "* Manage spatial references (good to set all to same projection)"
   ]
  },
  {
   "cell_type": "code",
   "execution_count": null,
   "metadata": {},
   "outputs": [],
   "source": [
    "#Check the spatial reference of the HUC12 dataset\n",
    "sdfHUC12s.spatial.sr"
   ]
  },
  {
   "cell_type": "code",
   "execution_count": null,
   "metadata": {},
   "outputs": [],
   "source": [
    "#Check the spatial reference of the Duplin sites dataset\n",
    "sdfSites.spatial.sr"
   ]
  },
  {
   "cell_type": "code",
   "execution_count": null,
   "metadata": {},
   "outputs": [],
   "source": [
    "#Reproject points to same sr as polygons\n",
    "sdfSites.spatial.project(sdfHUC12s.spatial.sr)\n",
    "sdfSites.spatial.sr"
   ]
  },
  {
   "cell_type": "markdown",
   "metadata": {},
   "source": [
    "* Quick spatial analysis: subset just HUC12s containing the points"
   ]
  },
  {
   "cell_type": "code",
   "execution_count": null,
   "metadata": {},
   "outputs": [],
   "source": [
    "#Select the HUCs intersecting the points\n",
    "sdfHUCs_select = sdfHUC12s.spatial.relationship(sdfSites,op='contains')\n",
    "sdfHUCs_select.shape"
   ]
  },
  {
   "cell_type": "markdown",
   "metadata": {},
   "source": [
    "* Quick tabular analysis: classify values in the \"Estimate\" fields into low, med, and high categories"
   ]
  },
  {
   "cell_type": "code",
   "execution_count": null,
   "metadata": {},
   "outputs": [],
   "source": [
    "#Set the class masks\n",
    "low_mask = sdfSites['Estimated'] < 16\n",
    "high_mask = sdfSites['Estimated'] > 26"
   ]
  },
  {
   "cell_type": "code",
   "execution_count": null,
   "metadata": {},
   "outputs": [],
   "source": [
    "#Add a column to the SDF sites classifying \"Estimate\" values as low, med, high\n",
    "sdfSites['Class'] = 'X'\n",
    "sdfSites.loc[low_mask,'Class'] = 'low'\n",
    "sdfSites.loc[(~low_mask) & (~high_mask),'Class'] = 'med'\n",
    "sdfSites.loc[high_mask,'Class'] = 'high'"
   ]
  },
  {
   "cell_type": "code",
   "execution_count": null,
   "metadata": {},
   "outputs": [],
   "source": [
    "#Show tallies of each class\n",
    "sdfSites.Class.value_counts().plot(kind='bar');"
   ]
  },
  {
   "cell_type": "markdown",
   "metadata": {},
   "source": [
    "### Simple plotting\n",
    "Steps: \n",
    "* Create a map (optionally zoomed into a set region)\n",
    "* Plot your spatial dataframe onto the map"
   ]
  },
  {
   "cell_type": "code",
   "execution_count": null,
   "metadata": {},
   "outputs": [],
   "source": [
    "#Step1 : Create a map zoomed to Duplin Co then show it\n",
    "map1 = gis.map('Duplin Co., NC')\n",
    "map1"
   ]
  },
  {
   "cell_type": "code",
   "execution_count": null,
   "metadata": {},
   "outputs": [],
   "source": [
    "#Step 2: Plot the points GeoAccessor object onto the map\n",
    "sdfSites.spatial.plot(map_widget = map1)"
   ]
  },
  {
   "cell_type": "code",
   "execution_count": null,
   "metadata": {},
   "outputs": [],
   "source": [
    "#Remove the previous plot and re-plot both the HUCs and the Points\n",
    "map1.remove_layers()\n",
    "sdfHUCs_select.spatial.plot(map1)\n",
    "sdfSites.spatial.plot(map1)"
   ]
  },
  {
   "cell_type": "markdown",
   "metadata": {},
   "source": [
    "### Controlling how features are displayed\n",
    "Here, we'll map our points again, but this time using the symbolization example taken from the documentation:\n",
    "* https://developers.arcgis.com/python/guide/visualizing-data-with-the-spatially-enabled-dataframe/#Plotting-the-DataFrame\n",
    "\n",
    "Then, we'll play with the various values to get a feel for what they control. "
   ]
  },
  {
   "cell_type": "code",
   "execution_count": null,
   "metadata": {},
   "outputs": [],
   "source": [
    "map2 = gis.map('Duplin Co., NC')\n",
    "map2"
   ]
  },
  {
   "cell_type": "code",
   "execution_count": null,
   "metadata": {},
   "outputs": [],
   "source": [
    "#Taken directly from the API help example\n",
    "sdfSites.spatial.plot(map_widget=map2,\n",
    "                      symbol_type='simple',\n",
    "                      symbol_style='d', # d - for diamonds\n",
    "                      colors='Reds_r',\n",
    "                      cstep=10,\n",
    "                      outline_color='Blues',\n",
    "                      marker_size=10)"
   ]
  },
  {
   "cell_type": "markdown",
   "metadata": {},
   "source": [
    "Now, play with the values to see what they do\n",
    "* Change the symbol type to crosses, then to squares\n",
    "* Add a `line_width` attribute, setting it's value to 0.01\n",
    "* Change the cstep to 0, then to 100, 200: what happens as the value gets larger?"
   ]
  },
  {
   "cell_type": "code",
   "execution_count": null,
   "metadata": {},
   "outputs": [],
   "source": [
    "map2.remove_layers()\n",
    "sdfSites.spatial.plot(map_widget=map2,\n",
    "                      symbol_type='simple',\n",
    "                      symbol_style='d', # d - for diamonds\n",
    "                      colors='Reds_r',\n",
    "                      cstep=10,\n",
    "                      outline_color='Blues',\n",
    "                      marker_size=10)"
   ]
  },
  {
   "cell_type": "markdown",
   "metadata": {},
   "source": [
    "##### Renderers: \n",
    "https://developers.arcgis.com/python/guide/visualizing-data-with-the-spatially-enabled-dataframe/#Understanding-renderers<br>\n",
    "https://developers.arcgis.com/python/api-reference/arcgis.features.toc.html#arcgis.features.GeoAccessor.plot<br>\n"
   ]
  },
  {
   "cell_type": "code",
   "execution_count": null,
   "metadata": {},
   "outputs": [],
   "source": [
    "map3 = gis.map('Duplin Co., NC',zoomlevel=10)\n",
    "map3"
   ]
  },
  {
   "cell_type": "code",
   "execution_count": null,
   "metadata": {},
   "outputs": [],
   "source": [
    "map3.remove_layers()\n",
    "sdfSites.spatial.plot(map_widget = map3,\n",
    "                      renderer_type='h',\n",
    "                      col='Class',\n",
    "                      line_width=0.1,\n",
    "                      alpha=0.4 \n",
    "             )"
   ]
  },
  {
   "cell_type": "markdown",
   "metadata": {},
   "source": [
    "* Change the symbol type from default circles to squares\n",
    "* Change render types from simple to:\n",
    "    * unique values on our \"Class\" attribute\n",
    "    * class break values on our \"Estimate\" \n",
    "\n",
    "* Change the renderer type to 'h'\n",
    "* Change the renderer type to 'c' (class) hten "
   ]
  }
 ],
 "metadata": {
  "kernelspec": {
   "display_name": "Python 3",
   "language": "python",
   "name": "python3"
  },
  "language_info": {
   "codemirror_mode": {
    "name": "ipython",
    "version": 3
   },
   "file_extension": ".py",
   "mimetype": "text/x-python",
   "name": "python",
   "nbconvert_exporter": "python",
   "pygments_lexer": "ipython3",
   "version": "3.6.12"
  }
 },
 "nbformat": 4,
 "nbformat_minor": 2
}
