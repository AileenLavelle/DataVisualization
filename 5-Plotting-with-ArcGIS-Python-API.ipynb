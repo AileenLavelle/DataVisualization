{
 "cells": [
  {
   "cell_type": "markdown",
   "metadata": {},
   "source": [
    "https://developers.arcgis.com/python/guide/visualizing-data-with-the-spatially-enabled-dataframe/"
   ]
  },
  {
   "cell_type": "code",
   "execution_count": 1,
   "metadata": {},
   "outputs": [],
   "source": [
    "import pandas as pd\n",
    "import geopandas as gpd\n",
    "from arcgis import GIS, GeoAccessor, GeoSeriesAccessor\n",
    "from arcgis.features import SpatialDataFrame\n",
    "\n",
    "gis = GIS()\n",
    "\n",
    "%matplotlib inline"
   ]
  },
  {
   "cell_type": "code",
   "execution_count": 2,
   "metadata": {},
   "outputs": [],
   "source": [
    "#Get some data\n",
    "sdfHUC12s = GeoAccessor.from_featureclass('./data/12Digit_HUC_Subwatersheds.shp')\n",
    "sdfSites = GeoAccessor.from_featureclass('./data/DuplinSites_LL.shp')"
   ]
  },
  {
   "cell_type": "code",
   "execution_count": 3,
   "metadata": {},
   "outputs": [
    {
     "data": {
      "text/plain": [
       "{'wkid': 4326, 'latestWkid': 4326}"
      ]
     },
     "execution_count": 3,
     "metadata": {},
     "output_type": "execute_result"
    }
   ],
   "source": [
    "sdfHUC12s.spatial.sr"
   ]
  },
  {
   "cell_type": "code",
   "execution_count": 4,
   "metadata": {},
   "outputs": [
    {
     "data": {
      "text/plain": [
       "{'wkid': 4269, 'latestWkid': 4269}"
      ]
     },
     "execution_count": 4,
     "metadata": {},
     "output_type": "execute_result"
    }
   ],
   "source": [
    "sdfSites.spatial.sr"
   ]
  },
  {
   "cell_type": "code",
   "execution_count": 6,
   "metadata": {},
   "outputs": [
    {
     "data": {
      "text/plain": [
       "{'wkid': 4326, 'latestWkid': 4326}"
      ]
     },
     "execution_count": 6,
     "metadata": {},
     "output_type": "execute_result"
    }
   ],
   "source": [
    "#Reproject points to same sr as polygons\n",
    "sdfSites.spatial.project(sdfHUC12s.spatial.sr)\n",
    "sdfSites.spatial.sr"
   ]
  },
  {
   "cell_type": "code",
   "execution_count": 7,
   "metadata": {},
   "outputs": [],
   "source": [
    "#Select the HUCs intersecting the points\n",
    "sdfHUCs_select = sdfHUC12s.spatial.relationship(sdfSites,op='contains')"
   ]
  },
  {
   "cell_type": "markdown",
   "metadata": {},
   "source": [
    "### Simple plotting\n",
    "Steps: \n",
    "* Create a map (optionally zoomed into a set region)\n",
    "* Plot your spatial dataframe onto the map"
   ]
  },
  {
   "cell_type": "code",
   "execution_count": 8,
   "metadata": {},
   "outputs": [
    {
     "data": {
      "application/vnd.jupyter.widget-view+json": {
       "model_id": "c808717557624d74be1b68b0d61e54dc",
       "version_major": 2,
       "version_minor": 0
      },
      "text/plain": [
       "MapView(layout=Layout(height='400px', width='100%'))"
      ]
     },
     "metadata": {},
     "output_type": "display_data"
    },
    {
     "data": {
      "text/html": [
       "<div class=\"map-static-img-preview-21993a00-4dac-47aa-82d8-fa6d321ccc47\"><img src=\"\"></img></div>"
      ],
      "text/plain": [
       "<IPython.core.display.HTML object>"
      ]
     },
     "metadata": {},
     "output_type": "display_data"
    }
   ],
   "source": [
    "#Step1 : Create a map zoomed to Duplin Co\n",
    "map1 = gis.map('Duplin Co., NC')\n",
    "map1"
   ]
  },
  {
   "cell_type": "code",
   "execution_count": 9,
   "metadata": {},
   "outputs": [
    {
     "data": {
      "text/plain": [
       "True"
      ]
     },
     "execution_count": 9,
     "metadata": {},
     "output_type": "execute_result"
    }
   ],
   "source": [
    "#Step 2: Plot the points GeoAccessor object onto the map\n",
    "sdfSites.spatial.plot(map_widget = map1)"
   ]
  },
  {
   "cell_type": "code",
   "execution_count": 10,
   "metadata": {},
   "outputs": [
    {
     "data": {
      "text/plain": [
       "True"
      ]
     },
     "execution_count": 10,
     "metadata": {},
     "output_type": "execute_result"
    }
   ],
   "source": [
    "#Remove the previous plot and re-plot both the HUCs and the Points\n",
    "map1.remove_layers()\n",
    "sdfHUCs_select.spatial.plot(map1)\n",
    "sdfSites.spatial.plot(map1)"
   ]
  },
  {
   "cell_type": "markdown",
   "metadata": {},
   "source": [
    "### Controlling how features are displayed\n",
    "* https://developers.arcgis.com/python/guide/visualizing-data-with-the-spatially-enabled-dataframe/#Understanding-renderers"
   ]
  },
  {
   "cell_type": "code",
   "execution_count": 11,
   "metadata": {},
   "outputs": [],
   "source": [
    "#Add a column to the SDF sites classifying \"Estimate\" values as low, med, high\n",
    "sdfSites.loc[sdfSites['Estimated']< 16,'Class'] = 'low'\n",
    "sdfSites.loc[(sdfSites['Estimated'] >= 16) & \n",
    "             (sdfSites['Estimated'] < 26),'Class'] = 'med'\n",
    "sdfSites.loc[sdfSites['Estimated']>= 26,'Class'] = 'high'"
   ]
  },
  {
   "cell_type": "code",
   "execution_count": 12,
   "metadata": {},
   "outputs": [
    {
     "data": {
      "image/png": "[encoded data removed]",
      "text/plain": [
       "<Figure size 432x288 with 1 Axes>"
      ]
     },
     "metadata": {
      "needs_background": "light"
     },
     "output_type": "display_data"
    }
   ],
   "source": [
    "#Show tallies of each class\n",
    "sdfSites.Class.value_counts().plot(kind='bar');"
   ]
  },
  {
   "cell_type": "code",
   "execution_count": 13,
   "metadata": {},
   "outputs": [
    {
     "data": {
      "application/vnd.jupyter.widget-view+json": {
       "model_id": "5353099e4ea7479792c956093a6d3416",
       "version_major": 2,
       "version_minor": 0
      },
      "text/plain": [
       "MapView(layout=Layout(height='400px', width='100%'))"
      ]
     },
     "metadata": {},
     "output_type": "display_data"
    },
    {
     "data": {
      "text/html": [
       "<div class=\"map-static-img-preview-8d44a39c-57bf-4fae-b2a3-ebcf973a2a8a\"><img src=\"\"></img></div>"
      ],
      "text/plain": [
       "<IPython.core.display.HTML object>"
      ]
     },
     "metadata": {},
     "output_type": "display_data"
    }
   ],
   "source": [
    "map2 = gis.map('Duplin Co., NC')\n",
    "map2"
   ]
  },
  {
   "cell_type": "markdown",
   "metadata": {},
   "source": [
    "First, start with the example presented in the API Guide:\n",
    "* https://developers.arcgis.com/python/guide/visualizing-data-with-the-spatially-enabled-dataframe/#Plotting-the-DataFrame"
   ]
  },
  {
   "cell_type": "code",
   "execution_count": 17,
   "metadata": {},
   "outputs": [
    {
     "data": {
      "text/plain": [
       "True"
      ]
     },
     "execution_count": 17,
     "metadata": {},
     "output_type": "execute_result"
    }
   ],
   "source": [
    "sdfSites.spatial.plot(map_widget=map2,\n",
    "                      symbol_type='simple',\n",
    "                      symbol_style='d', # d - for diamonds\n",
    "                      colors='Reds_r',\n",
    "                      cstep=10,\n",
    "                      outline_color='Blues',\n",
    "                      marker_size=10)"
   ]
  },
  {
   "cell_type": "markdown",
   "metadata": {},
   "source": [
    "Now, play with the values to see what they do\n",
    "* Change the symbol type to crosses, then to squares\n",
    "* Add a `line_width` attribute, setting it's value to 0.01\n",
    "* Change the cstep to 0, then to 100, 200: what happens as the value gets larger?"
   ]
  },
  {
   "cell_type": "code",
   "execution_count": 34,
   "metadata": {},
   "outputs": [
    {
     "data": {
      "text/plain": [
       "True"
      ]
     },
     "execution_count": 34,
     "metadata": {},
     "output_type": "execute_result"
    }
   ],
   "source": [
    "map2.remove_layers()\n",
    "sdfSites.spatial.plot(map_widget=map2,\n",
    "                      symbol_type='simple',\n",
    "                      symbol_style='s', # d - for diamonds\n",
    "                      colors='Reds_r',\n",
    "                      cstep=150,\n",
    "                      outline_color='Reds',\n",
    "                      line_width=0.01,\n",
    "                      marker_size='Estimate')"
   ]
  },
  {
   "cell_type": "markdown",
   "metadata": {},
   "source": [
    "##### Renderers: \n",
    "https://developers.arcgis.com/python/api-reference/arcgis.features.toc.html?highlight=project#arcgis.features.GeoAccessor.plot\n",
    "* Change the symbol type from default circles to squares\n",
    "* Change render types from simple to:\n",
    "    * unique values on our \"Class\" attribute\n",
    "    * class break values on our \"Estimate\" "
   ]
  },
  {
   "cell_type": "code",
   "execution_count": 65,
   "metadata": {},
   "outputs": [
    {
     "data": {
      "application/vnd.jupyter.widget-view+json": {
       "model_id": "f0da9268cb8243d4ad3037ce4b233d0e",
       "version_major": 2,
       "version_minor": 0
      },
      "text/plain": [
       "MapView(layout=Layout(height='400px', width='100%'), zoom=8.0)"
      ]
     },
     "metadata": {},
     "output_type": "display_data"
    },
    {
     "data": {
      "text/html": [
       "<div class=\"map-static-img-preview-1f40b43d-3c48-4d13-8c4b-b3a1ec887e67\"><img src=\"\"></img></div>"
      ],
      "text/plain": [
       "<IPython.core.display.HTML object>"
      ]
     },
     "metadata": {},
     "output_type": "display_data"
    }
   ],
   "source": [
    "map3 = gis.map('Duplin Co., NC',zoomlevel=8)\n",
    "map3"
   ]
  },
  {
   "cell_type": "code",
   "execution_count": 82,
   "metadata": {},
   "outputs": [
    {
     "data": {
      "text/plain": [
       "True"
      ]
     },
     "execution_count": 82,
     "metadata": {},
     "output_type": "execute_result"
    }
   ],
   "source": [
    "map3.remove_layers()\n",
    "sdfSites.spatial.plot(map_widget = map3,\n",
    "                      #renderer_type='u',col='Class', cmap='Blues',\n",
    "                      renderer_type='c',col='Lat',cmap='Greens',alpha=0.2,\n",
    "                      marker_size=2,\n",
    "                      line_width=0.01\n",
    "             )"
   ]
  },
  {
   "cell_type": "markdown",
   "metadata": {},
   "source": [
    "* Change the renderer type to 'h'\n",
    "* Change the renderer type to 'c' (class) hten "
   ]
  }
 ],
 "metadata": {
  "kernelspec": {
   "display_name": "Python 3",
   "language": "python",
   "name": "python3"
  },
  "language_info": {
   "codemirror_mode": {
    "name": "ipython",
    "version": 3
   },
   "file_extension": ".py",
   "mimetype": "text/x-python",
   "name": "python",
   "nbconvert_exporter": "python",
   "pygments_lexer": "ipython3",
   "version": "3.6.8"
  }
 },
 "nbformat": 4,
 "nbformat_minor": 2
}
