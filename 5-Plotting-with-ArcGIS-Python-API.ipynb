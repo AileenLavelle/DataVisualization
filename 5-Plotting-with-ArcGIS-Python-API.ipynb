{
 "cells": [
  {
   "cell_type": "markdown",
   "metadata": {},
   "source": [
    "https://developers.arcgis.com/python/guide/visualizing-data-with-the-spatially-enabled-dataframe/"
   ]
  },
  {
   "cell_type": "code",
   "execution_count": 3,
   "metadata": {},
   "outputs": [],
   "source": [
    "from arcgis import GIS\n",
    "gis = GIS()"
   ]
  },
  {
   "cell_type": "code",
   "execution_count": 4,
   "metadata": {},
   "outputs": [
    {
     "name": "stderr",
     "output_type": "stream",
     "text": [
      "C:\\Conda\\ENV859\\lib\\site-packages\\IPython\\lib\\pretty.py:402: FutureWarning: 'ExtensionArray._formatting_values' is deprecated. Specify 'ExtensionArray._formatter' instead.\n",
      "  return _repr_pprint(obj, self, cycle)\n",
      "C:\\Conda\\ENV859\\lib\\site-packages\\pandas\\io\\formats\\html.py:606: FutureWarning: 'ExtensionArray._formatting_values' is deprecated. Specify 'ExtensionArray._formatter' instead.\n",
      "  super().render()\n"
     ]
    },
    {
     "data": {
      "text/html": [
       "<div>\n",
       "<style scoped>\n",
       "    .dataframe tbody tr th:only-of-type {\n",
       "        vertical-align: middle;\n",
       "    }\n",
       "\n",
       "    .dataframe tbody tr th {\n",
       "        vertical-align: top;\n",
       "    }\n",
       "\n",
       "    .dataframe thead th {\n",
       "        text-align: right;\n",
       "    }\n",
       "</style>\n",
       "<table border=\"1\" class=\"dataframe\">\n",
       "  <thead>\n",
       "    <tr style=\"text-align: right;\">\n",
       "      <th></th>\n",
       "      <th>FID</th>\n",
       "      <th>NAME</th>\n",
       "      <th>CLASS</th>\n",
       "      <th>ST</th>\n",
       "      <th>STFIPS</th>\n",
       "      <th>PLACEFIPS</th>\n",
       "      <th>CAPITAL</th>\n",
       "      <th>POP_CLASS</th>\n",
       "      <th>POPULATION</th>\n",
       "      <th>POP2010</th>\n",
       "      <th>...</th>\n",
       "      <th>MARHH_NO_C</th>\n",
       "      <th>MHH_CHILD</th>\n",
       "      <th>FHH_CHILD</th>\n",
       "      <th>FAMILIES</th>\n",
       "      <th>AVE_FAM_SZ</th>\n",
       "      <th>HSE_UNITS</th>\n",
       "      <th>VACANT</th>\n",
       "      <th>OWNER_OCC</th>\n",
       "      <th>RENTER_OCC</th>\n",
       "      <th>SHAPE</th>\n",
       "    </tr>\n",
       "  </thead>\n",
       "  <tbody>\n",
       "    <tr>\n",
       "      <td>0</td>\n",
       "      <td>1</td>\n",
       "      <td>Ammon</td>\n",
       "      <td>city</td>\n",
       "      <td>ID</td>\n",
       "      <td>16</td>\n",
       "      <td>1601990</td>\n",
       "      <td></td>\n",
       "      <td>6</td>\n",
       "      <td>15181</td>\n",
       "      <td>13816</td>\n",
       "      <td>...</td>\n",
       "      <td>1131</td>\n",
       "      <td>106</td>\n",
       "      <td>335</td>\n",
       "      <td>3352</td>\n",
       "      <td>3.61</td>\n",
       "      <td>4747</td>\n",
       "      <td>271</td>\n",
       "      <td>3205</td>\n",
       "      <td>1271</td>\n",
       "      <td>{\"x\": -12462673.723706165, \"y\": 5384674.994080...</td>\n",
       "    </tr>\n",
       "    <tr>\n",
       "      <td>1</td>\n",
       "      <td>2</td>\n",
       "      <td>Blackfoot</td>\n",
       "      <td>city</td>\n",
       "      <td>ID</td>\n",
       "      <td>16</td>\n",
       "      <td>1607840</td>\n",
       "      <td></td>\n",
       "      <td>6</td>\n",
       "      <td>11946</td>\n",
       "      <td>11899</td>\n",
       "      <td>...</td>\n",
       "      <td>1081</td>\n",
       "      <td>174</td>\n",
       "      <td>381</td>\n",
       "      <td>2958</td>\n",
       "      <td>3.31</td>\n",
       "      <td>4547</td>\n",
       "      <td>318</td>\n",
       "      <td>2788</td>\n",
       "      <td>1441</td>\n",
       "      <td>{\"x\": -12506251.313993266, \"y\": 5341537.793529...</td>\n",
       "    </tr>\n",
       "    <tr>\n",
       "      <td>2</td>\n",
       "      <td>4</td>\n",
       "      <td>Burley</td>\n",
       "      <td>city</td>\n",
       "      <td>ID</td>\n",
       "      <td>16</td>\n",
       "      <td>1611260</td>\n",
       "      <td></td>\n",
       "      <td>6</td>\n",
       "      <td>10727</td>\n",
       "      <td>10345</td>\n",
       "      <td>...</td>\n",
       "      <td>861</td>\n",
       "      <td>139</td>\n",
       "      <td>358</td>\n",
       "      <td>2499</td>\n",
       "      <td>3.37</td>\n",
       "      <td>3885</td>\n",
       "      <td>241</td>\n",
       "      <td>2183</td>\n",
       "      <td>1461</td>\n",
       "      <td>{\"x\": -12667411.402393516, \"y\": 5241722.820606...</td>\n",
       "    </tr>\n",
       "    <tr>\n",
       "      <td>3</td>\n",
       "      <td>6</td>\n",
       "      <td>Chubbuck</td>\n",
       "      <td>city</td>\n",
       "      <td>ID</td>\n",
       "      <td>16</td>\n",
       "      <td>1614680</td>\n",
       "      <td></td>\n",
       "      <td>6</td>\n",
       "      <td>14655</td>\n",
       "      <td>13922</td>\n",
       "      <td>...</td>\n",
       "      <td>1281</td>\n",
       "      <td>172</td>\n",
       "      <td>370</td>\n",
       "      <td>3586</td>\n",
       "      <td>3.40</td>\n",
       "      <td>4961</td>\n",
       "      <td>229</td>\n",
       "      <td>3324</td>\n",
       "      <td>1408</td>\n",
       "      <td>{\"x\": -12520053.904151963, \"y\": 5300220.333409...</td>\n",
       "    </tr>\n",
       "    <tr>\n",
       "      <td>4</td>\n",
       "      <td>12</td>\n",
       "      <td>Jerome</td>\n",
       "      <td>city</td>\n",
       "      <td>ID</td>\n",
       "      <td>16</td>\n",
       "      <td>1641320</td>\n",
       "      <td></td>\n",
       "      <td>6</td>\n",
       "      <td>11403</td>\n",
       "      <td>10890</td>\n",
       "      <td>...</td>\n",
       "      <td>779</td>\n",
       "      <td>210</td>\n",
       "      <td>385</td>\n",
       "      <td>2640</td>\n",
       "      <td>3.44</td>\n",
       "      <td>3985</td>\n",
       "      <td>292</td>\n",
       "      <td>2219</td>\n",
       "      <td>1474</td>\n",
       "      <td>{\"x\": -12747828.64784961, \"y\": 5269214.8197742...</td>\n",
       "    </tr>\n",
       "  </tbody>\n",
       "</table>\n",
       "<p>5 rows × 50 columns</p>\n",
       "</div>"
      ],
      "text/plain": [
       "   FID       NAME CLASS  ST STFIPS PLACEFIPS CAPITAL  POP_CLASS  POPULATION  \\\n",
       "0    1      Ammon  city  ID     16   1601990                  6       15181   \n",
       "1    2  Blackfoot  city  ID     16   1607840                  6       11946   \n",
       "2    4     Burley  city  ID     16   1611260                  6       10727   \n",
       "3    6   Chubbuck  city  ID     16   1614680                  6       14655   \n",
       "4   12     Jerome  city  ID     16   1641320                  6       11403   \n",
       "\n",
       "   POP2010  ...  MARHH_NO_C  MHH_CHILD  FHH_CHILD  FAMILIES  AVE_FAM_SZ  \\\n",
       "0    13816  ...        1131        106        335      3352        3.61   \n",
       "1    11899  ...        1081        174        381      2958        3.31   \n",
       "2    10345  ...         861        139        358      2499        3.37   \n",
       "3    13922  ...        1281        172        370      3586        3.40   \n",
       "4    10890  ...         779        210        385      2640        3.44   \n",
       "\n",
       "   HSE_UNITS  VACANT  OWNER_OCC  RENTER_OCC  \\\n",
       "0       4747     271       3205        1271   \n",
       "1       4547     318       2788        1441   \n",
       "2       3885     241       2183        1461   \n",
       "3       4961     229       3324        1408   \n",
       "4       3985     292       2219        1474   \n",
       "\n",
       "                                               SHAPE  \n",
       "0  {\"x\": -12462673.723706165, \"y\": 5384674.994080...  \n",
       "1  {\"x\": -12506251.313993266, \"y\": 5341537.793529...  \n",
       "2  {\"x\": -12667411.402393516, \"y\": 5241722.820606...  \n",
       "3  {\"x\": -12520053.904151963, \"y\": 5300220.333409...  \n",
       "4  {\"x\": -12747828.64784961, \"y\": 5269214.8197742...  \n",
       "\n",
       "[5 rows x 50 columns]"
      ]
     },
     "execution_count": 4,
     "metadata": {},
     "output_type": "execute_result"
    }
   ],
   "source": [
    "# create an anonymous connection to ArcGIS Online and get a public item\n",
    "item = gis.content.get(\"85d0ca4ea1ca4b9abf0c51b9bd34de2e\")\n",
    "flayer = item.layers[0]\n",
    "\n",
    "# Specify a SQL query and get a sub-set of the original data as a DataFrame\n",
    "df = flayer.query(where=\"AGE_45_54 < 1500\").sdf\n",
    "\n",
    "# Visualize the top 5 records\n",
    "df.head()"
   ]
  },
  {
   "cell_type": "code",
   "execution_count": 5,
   "metadata": {},
   "outputs": [
    {
     "data": {
      "application/vnd.jupyter.widget-view+json": {
       "model_id": "e6fcdc62af814a83b32e254b3a5f6eba",
       "version_major": 2,
       "version_minor": 0
      },
      "text/plain": [
       "MapView(layout=Layout(height='400px', width='100%'))"
      ]
     },
     "metadata": {},
     "output_type": "display_data"
    },
    {
     "data": {
      "text/html": [
       "<div class=\"map-static-img-preview-6741cff1-7ec2-4832-b707-bcfd1bb23a08\"><img src=\"\"></img></div>"
      ],
      "text/plain": [
       "<IPython.core.display.HTML object>"
      ]
     },
     "metadata": {},
     "output_type": "display_data"
    }
   ],
   "source": [
    "df.spatial.plot()"
   ]
  },
  {
   "cell_type": "code",
   "execution_count": null,
   "metadata": {},
   "outputs": [],
   "source": []
  }
 ],
 "metadata": {
  "kernelspec": {
   "display_name": "Python 3",
   "language": "python",
   "name": "python3"
  },
  "language_info": {
   "codemirror_mode": {
    "name": "ipython",
    "version": 3
   },
   "file_extension": ".py",
   "mimetype": "text/x-python",
   "name": "python",
   "nbconvert_exporter": "python",
   "pygments_lexer": "ipython3",
   "version": "3.6.8"
  }
 },
 "nbformat": 4,
 "nbformat_minor": 2
}
