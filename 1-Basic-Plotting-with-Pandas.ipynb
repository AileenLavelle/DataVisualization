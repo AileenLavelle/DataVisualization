{
 "cells": [
  {
   "cell_type": "markdown",
   "metadata": {},
   "source": [
    "# Basic plotting with Pandas\n",
    "Pandas supports some useful plotting function which are actually a subset of the Matplotlib package's more substantial plotting capabilities. And so, we'll begin our exploration of plotting with Pandas and in doing so distill plots into their fundamental components.\n",
    "\n",
    "We will use a dataset listing 2010 water consumption by sector for each state with categories for fresh vs saline water usage. This data also includes a column listing the state's population. From this dataset, we'll generate a number of different plots and explore the components of these plots and how they are controlled. "
   ]
  },
  {
   "cell_type": "markdown",
   "metadata": {},
   "source": [
    "## 1. Analysis set up"
   ]
  },
  {
   "cell_type": "code",
   "execution_count": null,
   "metadata": {},
   "outputs": [],
   "source": [
    "#Import pandas\n",
    "import pandas as pd"
   ]
  },
  {
   "cell_type": "code",
   "execution_count": null,
   "metadata": {},
   "outputs": [],
   "source": [
    "#Set images to display inline\n",
    "%matplotlib inline"
   ]
  },
  {
   "cell_type": "code",
   "execution_count": null,
   "metadata": {},
   "outputs": [],
   "source": [
    "#Read the data into a data frame\n",
    "dfWaterUse = pd.read_csv('./data/State_Data_Formatted_All.csv')\n",
    "dfWaterUse.head()"
   ]
  },
  {
   "cell_type": "markdown",
   "metadata": {},
   "source": [
    "## 2. Data exploration\n",
    "Before making plots, it's useful to see what values we have in various columns. The number of values will affect what kinds of plots we want to make: too many unique values may make our plot overly complex and unreadable. "
   ]
  },
  {
   "cell_type": "markdown",
   "metadata": {},
   "source": [
    "### Exploring the number of unique category values in our data...\n",
    "Plots simplify data to convey a message. Thus if the plot has too many categories, the message may get muddled. Let's begin our exploration by looking at the various categories we can use to reduce our data. "
   ]
  },
  {
   "cell_type": "code",
   "execution_count": null,
   "metadata": {},
   "outputs": [],
   "source": [
    "#List unique values in the Type field\n",
    "dfWaterUse['Type'].unique()"
   ]
  },
  {
   "cell_type": "code",
   "execution_count": null,
   "metadata": {},
   "outputs": [],
   "source": [
    "#List number of unique values in the Category field\n",
    "dfWaterUse['Category'].nunique()"
   ]
  },
  {
   "cell_type": "code",
   "execution_count": null,
   "metadata": {},
   "outputs": [],
   "source": [
    "#List number of unique values in the Category field\n",
    "dfWaterUse['State'].nunique()"
   ]
  },
  {
   "cell_type": "markdown",
   "metadata": {},
   "source": [
    "So, we have two \"Types\" and nine \"Categories\". That seems manageable for some simple plots using these as axes. Plotting with \"States\" as an axis (n=53) may be a bit too complex for some basic plots though... "
   ]
  },
  {
   "cell_type": "markdown",
   "metadata": {},
   "source": [
    " ### Evaluate useful groupings and subsets of data...\n",
    "Now that we've explored the number of unique values in various categorical columns, we can mull various ways of grouping data and perhaps filtering records into particular subsets. \n",
    "\n",
    "One example, related to exploring our data, might be to display the number of records in each category. This is done with the Pandas `value_counts()` command. "
   ]
  },
  {
   "cell_type": "code",
   "execution_count": null,
   "metadata": {},
   "outputs": [],
   "source": [
    "#Reveal the number of records within each unique \"Category\"\n",
    "dfWaterUse['Category'].value_counts()"
   ]
  },
  {
   "cell_type": "markdown",
   "metadata": {},
   "source": [
    "Here we see that two categories have more records than the others. But, what if we ask that question a slightly different way: What if we wanted to list the number of records in each category that reflect a non-zero water withdrawal? "
   ]
  },
  {
   "cell_type": "code",
   "execution_count": null,
   "metadata": {},
   "outputs": [],
   "source": [
    "#Filter for records where withdrawal is greater than zero and show the number of records by category\n",
    "dfNonZero = dfWaterUse.query('Withdrawal_MGD > 0')\n",
    "dfNonZero['Category'].value_counts()"
   ]
  },
  {
   "cell_type": "markdown",
   "metadata": {},
   "source": [
    "That result tells a different story: it shows that while we have the same number of measurements for many categories, some categories reflect no withdrawals..."
   ]
  },
  {
   "cell_type": "markdown",
   "metadata": {},
   "source": [
    "## Plotting\n",
    "The above table is easy enough to read and interpret, but we can plot the data to tell the same story much more effectively. And we can creat these plots fairly quickly with Pandas commands...\n",
    "\n",
    "We'll start simple, and then modify our plot commands to get to a more effective communication device. First we'll convert our table of value counts to its own variable (a Pandas series object), and then explore Pandas `dataframe.plot()` command."
   ]
  },
  {
   "cell_type": "code",
   "execution_count": null,
   "metadata": {},
   "outputs": [],
   "source": [
    "dfCounts = dfNonZero['Category'].value_counts()"
   ]
  },
  {
   "cell_type": "markdown",
   "metadata": {},
   "source": [
    "#### Plot types"
   ]
  },
  {
   "cell_type": "code",
   "execution_count": null,
   "metadata": {},
   "outputs": [],
   "source": [
    "#Plot the number of records in each category; default is line\n",
    "dfCounts.plot();"
   ]
  },
  {
   "cell_type": "markdown",
   "metadata": {},
   "source": [
    "Documentation on the Pandas `plot()` command is here:<br>https://pandas.pydata.org/pandas-docs/version/0.23.4/generated/pandas.DataFrame.plot.html. \n",
    "\n",
    "Have a look at the command's arguments, particularly the `kind` arcgument. The default is `line`. "
   ]
  },
  {
   "cell_type": "code",
   "execution_count": null,
   "metadata": {},
   "outputs": [],
   "source": [
    "#Same as above, but the \"kind\" parameter is explicit\n",
    "dfCounts.plot(kind='line');"
   ]
  },
  {
   "cell_type": "code",
   "execution_count": null,
   "metadata": {},
   "outputs": [],
   "source": [
    "#Change plot types by changing the kind value to \"bar\"\n",
    "dfCounts.plot(kind='bar');"
   ]
  },
  {
   "cell_type": "markdown",
   "metadata": {},
   "source": [
    "► Try some other plot types: `barh`, `box`, `pie`, `scatter`\n",
    "\n",
    "Some of these types make sense, others do not given our data. Some types (e.g. `scatter`) won't even work. _Different plot types have different uses_:\n",
    " * <u>Line plots</u> are good for tracking change over time; the x-axis is continuous. \n",
    " * <u>Bar and horizontal bar plots</u> can also track change over time, but here the x-axis (or y, if horizontal) is discrete, not continuous, so the time would be in blocks. These plots are also good for comparing values associated with various groups. \n",
    " * <u>Pie charts</u> do not show change (no x-axis!) but are good at showing parts of a whole. \n",
    " \n",
    "There are many other types of plots and charts, of course, and each has a best case scenario. Check the literature for a more in-depth discussion on this. For example: see Stephanie Evergreen's [Chart Chooser utilities](http://stephanieevergreen.com/tag/chart-chooser/) for some ideas.\n"
   ]
  },
  {
   "cell_type": "markdown",
   "metadata": {},
   "source": [
    "#### Plot colors\n",
    "Refering back to the Pandas documentation, we see another plot argument is `color`...\n",
    "\n",
    "* Change the color of the bars in the horizontal bar plot with the `color` option. You can use any named color shown here: https://matplotlib.org/examples/color/named_colors.html, or you can specify a color by it's hexcode (see https://htmlcolorcodes.com/) preceded by a `#`, e.g. `#ff5733`. Try changing the color below to `maroon`."
   ]
  },
  {
   "cell_type": "code",
   "execution_count": null,
   "metadata": {},
   "outputs": [],
   "source": [
    "dfCounts.plot(kind='barh',color='#ff5733');"
   ]
  },
  {
   "cell_type": "markdown",
   "metadata": {},
   "source": [
    "#### Plot canvas size\n",
    "* Change the size of the plot with `figsize=()`. Supply a tuple of width and height to change the size of your plot. Values are somewhat arbitrary, so play around. (Also note that I've changed the format of the command, putting parameters on separate lines to make it more readable...) "
   ]
  },
  {
   "cell_type": "code",
   "execution_count": null,
   "metadata": {},
   "outputs": [],
   "source": [
    "dfCounts.plot(kind='barh',\n",
    "              color='navy',\n",
    "              figsize=(8,5));"
   ]
  },
  {
   "cell_type": "markdown",
   "metadata": {},
   "source": [
    "#### Colormaps\n",
    "\n",
    "* *Colormaps* apply a suite of colors to values in a plot. Below is an example of applying a colormap to our pie chart. "
   ]
  },
  {
   "cell_type": "code",
   "execution_count": null,
   "metadata": {},
   "outputs": [],
   "source": [
    "dfCounts.plot(kind='pie',\n",
    "              colormap ='Pastel1',\n",
    "              figsize=(5,5));"
   ]
  },
  {
   "cell_type": "markdown",
   "metadata": {},
   "source": [
    "There are 3 classes of colormap, each with its own use:\n",
    " * **Sequential** colormaps have a change of lightness over one color. They used for continuous, ordered values.\n",
    " * **Diverging** colormaps are used when the information being plotted deviates around a middle value. Here there are often two different colors being used.\n",
    " * **Qualitative** colormaps are for unordered, categorical data.\n",
    " \n",
    "See this link for a nice discussion:\n",
    "https://matplotlib.org/users/colormaps.html"
   ]
  },
  {
   "cell_type": "markdown",
   "metadata": {},
   "source": [
    "## Recap: Plotting with Pandas\n",
    "We can actually continue digging deeper into the subcommands of the Panda's plot function. But as we dig deeper, we are really just crossing over more into the `Matplotlib` package. (In fact, the Pandas plot command is really just a simplified interface to Matplotlib. \n",
    "\n",
    "So... let's just take the plunge and begin discussing that package."
   ]
  }
 ],
 "metadata": {
  "kernelspec": {
   "display_name": "Python 3",
   "language": "python",
   "name": "python3"
  },
  "language_info": {
   "codemirror_mode": {
    "name": "ipython",
    "version": 3
   },
   "file_extension": ".py",
   "mimetype": "text/x-python",
   "name": "python",
   "nbconvert_exporter": "python",
   "pygments_lexer": "ipython3",
   "version": "3.6.8"
  }
 },
 "nbformat": 4,
 "nbformat_minor": 2
}
